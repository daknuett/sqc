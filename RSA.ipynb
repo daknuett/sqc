{
 "cells": [
  {
   "cell_type": "code",
   "execution_count": 4,
   "metadata": {},
   "outputs": [],
   "source": [
    "import random"
   ]
  },
  {
   "cell_type": "code",
   "execution_count": 5,
   "metadata": {},
   "outputs": [],
   "source": [
    "def egcd(a, b):\n",
    "    if a == 0:\n",
    "        return (b, 0, 1)\n",
    "    else:\n",
    "        g, y, x = egcd(b % a, a)\n",
    "        return (g, x - (b // a) * y, y)\n",
    "\n",
    "def modinv(a, m): # calculate modular inverse using the greatest common divisor\n",
    "    g, x, y = egcd(a, m)\n",
    "    if g != 1:\n",
    "        raise Exception('modular inverse does not exist')\n",
    "    else:\n",
    "        return x % m"
   ]
  },
  {
   "cell_type": "code",
   "execution_count": 9,
   "metadata": {},
   "outputs": [
    {
     "name": "stdout",
     "output_type": "stream",
     "text": [
      "pub_key (61, 43767922191565469)\n",
      "priv_key (30852796082280889, 43767922191565469)\n"
     ]
    }
   ],
   "source": [
    "def make_rsa_keys(p,q,emax): # p and q are large prime numbers\n",
    "    n=p*q\n",
    "    phi=(p-1)*(q-1)\n",
    "    while True:\n",
    "        e=1+2*random.randrange(0,emax//2)\n",
    "        if egcd(phi,e)[0]==1: # phi and e need to be co-prime\n",
    "            break\n",
    "    d=modinv(e,phi)\n",
    "    return( (e,n), (d,n) )\n",
    "\n",
    "#(pub_key, priv_key)=make_rsa_keys(337,683,100)\n",
    "(pub_key, priv_key)=make_rsa_keys(20381027,2147483647,1000)\n",
    "\n",
    "print(\"pub_key\",pub_key)\n",
    "print(\"priv_key\",priv_key)"
   ]
  },
  {
   "cell_type": "code",
   "execution_count": 10,
   "metadata": {},
   "outputs": [
    {
     "name": "stdout",
     "output_type": "stream",
     "text": [
      "28175087500667783\n",
      "1231\n"
     ]
    }
   ],
   "source": [
    "def crypt(key, message):\n",
    "    assert(message >= 0 and message < key[1])\n",
    "\n",
    "    #return message ** key[0] % key[1]\n",
    "\n",
    "    # Much faster implementation below\n",
    "    if key[0] == 0:\n",
    "        return 1\n",
    "    elif key[0] % 2 == 0:\n",
    "        return crypt((key[0]//2,key[1]),message ** 2 % key[1])\n",
    "    else:\n",
    "        return (crypt((key[0]-1,key[1]),message) * message) % key[1]\n",
    "    \n",
    "encoded=crypt(pub_key,1231)\n",
    "print(encoded)\n",
    "print(crypt(priv_key,encoded))"
   ]
  },
  {
   "cell_type": "code",
   "execution_count": 12,
   "metadata": {},
   "outputs": [
    {
     "name": "stdout",
     "output_type": "stream",
     "text": [
      "[' ', 'a', 'b', 'c', 'd', 'e', 'f', 'g', 'h', 'i', 'j', 'k', 'l', 'm', 'n', 'o', 'p', 'q', 'r', 's', 't', 'u', 'v', 'w', 'x', 'y', 'z']\n"
     ]
    }
   ],
   "source": [
    "alphabet=[' '] + [chr(ord('a')+i) for i in range(26)]\n",
    "print(alphabet)\n",
    "\n",
    "def str2int(st,alphabet):\n",
    "    N=len(alphabet)\n",
    "    r=0\n",
    "    for s in st:\n",
    "        r=N*r + alphabet.index(s)\n",
    "    return r\n",
    "\n",
    "def int2str(i,alphabet):\n",
    "    N=len(alphabet)\n",
    "    r=\"\"\n",
    "    while i > 0:\n",
    "        r=alphabet[i % N]+r\n",
    "        i=i//N\n",
    "    return r"
   ]
  },
  {
   "cell_type": "code",
   "execution_count": 14,
   "metadata": {},
   "outputs": [
    {
     "name": "stdout",
     "output_type": "stream",
     "text": [
      "nhuzumhakrp\n",
      "hello world\n"
     ]
    }
   ],
   "source": [
    "encstr=int2str(crypt(pub_key,str2int(\"hello world\",alphabet)),alphabet)\n",
    "print(encstr)\n",
    "print(int2str(crypt(priv_key,str2int(encstr,alphabet)),alphabet))"
   ]
  }
 ],
 "metadata": {
  "kernelspec": {
   "display_name": "Python 3",
   "language": "python",
   "name": "python3"
  },
  "language_info": {
   "codemirror_mode": {
    "name": "ipython",
    "version": 3
   },
   "file_extension": ".py",
   "mimetype": "text/x-python",
   "name": "python",
   "nbconvert_exporter": "python",
   "pygments_lexer": "ipython3",
   "version": "3.7.3"
  }
 },
 "nbformat": 4,
 "nbformat_minor": 2
}
