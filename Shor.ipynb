{
 "cells": [
  {
   "cell_type": "code",
   "execution_count": 404,
   "metadata": {},
   "outputs": [],
   "source": [
    "import random"
   ]
  },
  {
   "cell_type": "code",
   "execution_count": 405,
   "metadata": {},
   "outputs": [],
   "source": [
    "def gcd(a, b):\n",
    "    return gcd(b, a % b) if b != 0 else a\n",
    "\n",
    "def findOrder(x,n):\n",
    "    x0=x % n\n",
    "    for r in range(1,n):\n",
    "        if x0 % n == 1:\n",
    "            return r\n",
    "        x0=x0 * x % n\n",
    "    assert(0)"
   ]
  },
  {
   "cell_type": "code",
   "execution_count": 406,
   "metadata": {},
   "outputs": [],
   "source": [
    "def findFactor(n):\n",
    "    for l in range(10):\n",
    "        a=random.randrange(1,n)\n",
    "        print(\"Step 1 (%d): picked random a=%d\" % (l,a))\n",
    "        g=gcd(a,n)\n",
    "        print(\"Step 2: gcd(a,n) = %d\" % g)\n",
    "        if g != 1:\n",
    "            return g\n",
    "        r=findOrder(a,n)\n",
    "        print(\"Step 3: order a^%d == 1 mod n\" % r)\n",
    "        if r % 2 == 0 and a**(r//2) % n != n-1:\n",
    "            print(\"Step 4: test if r is even and != -1 mod n\")\n",
    "            break\n",
    "    if l == 9:\n",
    "        print(\"Could not find a factor, %d is very likely prime\" % n)\n",
    "        return(1)\n",
    "    s0=gcd(a**(r//2)+1,n)\n",
    "    if n % s0 == 0 and n != s0 and 1 != s0:\n",
    "        return s0\n",
    "    return gcd(a**(r//2)-1,n)\n",
    "    \n",
    "    \n",
    "    "
   ]
  },
  {
   "cell_type": "code",
   "execution_count": 407,
   "metadata": {},
   "outputs": [
    {
     "name": "stdout",
     "output_type": "stream",
     "text": [
      "Step 1 (0): picked random a=87\n",
      "Step 2: gcd(a,n) = 1\n",
      "Step 3: order a^6 == 1 mod n\n",
      "Step 4: test if r is even and != -1 mod n\n",
      "Factor found:  7\n",
      "----\n",
      "Step 1 (0): picked random a=1\n",
      "Step 2: gcd(a,n) = 1\n",
      "Step 3: order a^1 == 1 mod n\n",
      "Step 1 (1): picked random a=13\n",
      "Step 2: gcd(a,n) = 1\n",
      "Step 3: order a^4 == 1 mod n\n",
      "Step 4: test if r is even and != -1 mod n\n",
      "Factor found:  5\n",
      "----\n",
      "Step 1 (0): picked random a=459\n",
      "Step 2: gcd(a,n) = 1\n",
      "Step 3: order a^24 == 1 mod n\n",
      "Step 4: test if r is even and != -1 mod n\n",
      "Factor found:  73\n"
     ]
    }
   ],
   "source": [
    "random.seed(19)\n",
    "print(\"Factor found: \",findFactor(91))\n",
    "\n",
    "print(\"----\")\n",
    "\n",
    "print(\"Factor found: \",findFactor(15))\n",
    "\n",
    "print(\"----\")\n",
    "print(\"Factor found: \",findFactor(511))"
   ]
  }
 ],
 "metadata": {
  "kernelspec": {
   "display_name": "Python 3",
   "language": "python",
   "name": "python3"
  },
  "language_info": {
   "codemirror_mode": {
    "name": "ipython",
    "version": 3
   },
   "file_extension": ".py",
   "mimetype": "text/x-python",
   "name": "python",
   "nbconvert_exporter": "python",
   "pygments_lexer": "ipython3",
   "version": "3.7.3"
  }
 },
 "nbformat": 4,
 "nbformat_minor": 2
}
