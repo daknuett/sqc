{
 "cells": [
  {
   "cell_type": "code",
   "execution_count": 40,
   "metadata": {},
   "outputs": [
    {
     "data": {
      "text/plain": [
       "<ErrorbarContainer object of 3 artists>"
      ]
     },
     "execution_count": 40,
     "metadata": {},
     "output_type": "execute_result"
    },
    {
     "data": {
      "image/png": "[encoded data removed]",
      "text/plain": [
       "<Figure size 432x288 with 1 Axes>"
      ]
     },
     "metadata": {
      "needs_background": "light"
     },
     "output_type": "display_data"
    }
   ],
   "source": [
    "import sqc\n",
    "import matplotlib.pyplot as plt\n",
    "\n",
    "Nbits=2\n",
    "\n",
    "sqc.seed(13)\n",
    "\n",
    "# Create noise model\n",
    "nm=sqc.noise.model.simple(\n",
    "    T1 = 50,\n",
    "    gate_times = { \"H\" : 0.0, \"CNOT\" : 0.0, \"Rz\" : 10, \"X\": 0.0 },\n",
    "    qubit_readout_errors = [ 0.0, 0.0 ],\n",
    "    gate_depolarization_p = { \"X\" : 0.0, \"CNOT\" : 0.0, \"Rz\" : 0.0, \"H\" : 0.0 }\n",
    ")\n",
    "\n",
    "# Operator\n",
    "def get_op(t):\n",
    "    op=sqc.operator(Nbits).X(0)\n",
    "    for i in range(t):\n",
    "        op=op.Rz(0,0) # just wait for 1mus\n",
    "    return op\n",
    "\n",
    "def val(d,x):\n",
    "    return d[x] if x in d else 0\n",
    "\n",
    "# Initial state\n",
    "s0=sqc.state(Nbits)\n",
    "\n",
    "# Sample\n",
    "x=range(30)\n",
    "y=[ val(sqc.noise.sample(nm,get_op(i),s0,100),1) for i in x ]\n",
    "yerr=[ n**0.5 for n in y ]\n",
    "\n",
    "plt.ylim(0,110)\n",
    "plt.errorbar(x,y,yerr=yerr)"
   ]
  },
  {
   "cell_type": "code",
   "execution_count": null,
   "metadata": {},
   "outputs": [],
   "source": []
  }
 ],
 "metadata": {
  "kernelspec": {
   "display_name": "Python 3",
   "language": "python",
   "name": "python3"
  },
  "language_info": {
   "codemirror_mode": {
    "name": "ipython",
    "version": 3
   },
   "file_extension": ".py",
   "mimetype": "text/x-python",
   "name": "python",
   "nbconvert_exporter": "python",
   "pygments_lexer": "ipython3",
   "version": "3.7.3"
  }
 },
 "nbformat": 4,
 "nbformat_minor": 2
}
