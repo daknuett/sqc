{
 "cells": [
  {
   "cell_type": "code",
   "execution_count": 1,
   "metadata": {},
   "outputs": [],
   "source": [
    "import sqc\n",
    "import numpy as np\n",
    "from exercises import cqft, qft, CRz, cadd, add, SWAP, CSWAP, C2NOT, phaseEstimate\n",
    "import matplotlib.pyplot as plt"
   ]
  },
  {
   "cell_type": "markdown",
   "metadata": {},
   "source": [
    "# If $y<c$"
   ]
  },
  {
   "cell_type": "code",
   "execution_count": 2,
   "metadata": {},
   "outputs": [],
   "source": [
    "def smallerThan(c,t,xbits,a,op): \n",
    "    # performs NOT operation on t qubit if x<c, a is ancilla qubit |0>\n",
    "    pbits=xbits + [a]\n",
    "    N=len(pbits)\n",
    "    op=add(2**N - c,op,pbits)\n",
    "    op=op.CNOT(a,t)\n",
    "    op=add(c,op,pbits)\n",
    "    return op"
   ]
  },
  {
   "cell_type": "code",
   "execution_count": 3,
   "metadata": {},
   "outputs": [],
   "source": [
    "def pr(i,start,width):\n",
    "    return (i//2**start)%(2**width)\n",
    "\n",
    "st=sqc.state(6,basis = [\"|%d>|%d>|%d>\" % (pr(i,0,4),pr(i,4,1),pr(i,5,1)) \n",
    "                        for i in range(2**6)])"
   ]
  },
  {
   "cell_type": "code",
   "execution_count": 4,
   "metadata": {},
   "outputs": [
    {
     "name": "stdout",
     "output_type": "stream",
     "text": [
      "   1 * |5>|0>|0>\n"
     ]
    }
   ],
   "source": [
    "st=sqc.operator(6).X(0).X(2)*st\n",
    "par_xbits=[0,1,2,3]\n",
    "par_tbit=5\n",
    "par_abit=4\n",
    "print(st)"
   ]
  },
  {
   "cell_type": "code",
   "execution_count": 5,
   "metadata": {},
   "outputs": [
    {
     "name": "stdout",
     "output_type": "stream",
     "text": [
      "|x>|0>|(x < 0)> =\n",
      "    1 * |5>|0>|0>\n",
      "|x>|0>|(x < 1)> =\n",
      "    1 * |5>|0>|0>\n",
      "|x>|0>|(x < 2)> =\n",
      "    1 * |5>|0>|0>\n",
      "|x>|0>|(x < 3)> =\n",
      "    1 * |5>|0>|0>\n",
      "|x>|0>|(x < 4)> =\n",
      "    1 * |5>|0>|0>\n",
      "|x>|0>|(x < 5)> =\n",
      "    1 * |5>|0>|0>\n",
      "|x>|0>|(x < 6)> =\n",
      "    1 * |5>|0>|1>\n",
      "|x>|0>|(x < 7)> =\n",
      "    1 * |5>|0>|1>\n",
      "|x>|0>|(x < 8)> =\n",
      "    1 * |5>|0>|1>\n",
      "|x>|0>|(x < 9)> =\n",
      "    1 * |5>|0>|1>\n",
      "|x>|0>|(x < 10)> =\n",
      "    1 * |5>|0>|1>\n",
      "|x>|0>|(x < 11)> =\n",
      "    1 * |5>|0>|1>\n",
      "|x>|0>|(x < 12)> =\n",
      "    1 * |5>|0>|1>\n",
      "|x>|0>|(x < 13)> =\n",
      "    1 * |5>|0>|1>\n",
      "|x>|0>|(x < 14)> =\n",
      "    1 * |5>|0>|1>\n",
      "|x>|0>|(x < 15)> =\n",
      "    1 * |5>|0>|1>\n"
     ]
    }
   ],
   "source": [
    "for c in range(2**4):\n",
    "    st2=smallerThan(c,par_tbit,par_xbits,par_abit,sqc.operator(6))*st\n",
    "    print(\"|x>|0>|(x < %d)> =\\n\" % c,st2)"
   ]
  },
  {
   "cell_type": "markdown",
   "metadata": {},
   "source": [
    "# Addition modulo $n$"
   ]
  },
  {
   "cell_type": "code",
   "execution_count": 6,
   "metadata": {},
   "outputs": [],
   "source": [
    "def modadd(x,op,ybits,n,abits):\n",
    "    assert(len(abits)==3)\n",
    "    assert(x<n)\n",
    "    a=abits[0]\n",
    "    c0=abits[1] # y < n\n",
    "    c1=abits[2] # y < n-x\n",
    "    \n",
    "    op=smallerThan(n,c0,ybits,a,op)\n",
    "    op=smallerThan(n-x,c1,ybits,a,op)\n",
    "\n",
    "    # if c0 and not c1: y = y + x - n  -> \n",
    "    op=C2NOT(c0,c1,a,op.X(c1)).X(c1)\n",
    "    op=cadd(a,x-n,op,ybits)\n",
    "    op=C2NOT(c0,c1,a,op.X(c1)).X(c1)\n",
    "\n",
    "    # if c0 and c1: y = y + x\n",
    "    op=C2NOT(c0,c1,a,op)\n",
    "    op=cadd(a,x,op,ybits)\n",
    "    op=C2NOT(c0,c1,a,op)\n",
    "\n",
    "    # untrigger c0 and c1 based on result in y\n",
    "    op=smallerThan(x,c1,ybits,a,op) \n",
    "    # (x+y) % n < x   -> c1 was not set, after this c1 will be equal to c0\n",
    "    op=op.CNOT(c0,c1) # clear c1\n",
    "    op=smallerThan(n,c0,ybits,a,op) # clear c0\n",
    "    return op\n",
    "\n",
    "st=sqc.state(7,basis = [\"|%d>|a=%d>|c0=%d>|c1=%d>\" % \n",
    "                        (pr(i,0,4),pr(i,4,1),pr(i,5,1),pr(i,6,1)) for i in range(2**7)])"
   ]
  },
  {
   "cell_type": "code",
   "execution_count": 7,
   "metadata": {},
   "outputs": [
    {
     "name": "stdout",
     "output_type": "stream",
     "text": [
      "   1 * |0>|a=0>|c0=0>|c1=0>\n",
      "(0 + 3) % 11 = \n",
      "    1 * |3>|a=0>|c0=0>|c1=0>\n",
      "(1 + 3) % 11 = \n",
      "    1 * |4>|a=0>|c0=0>|c1=0>\n",
      "(2 + 3) % 11 = \n",
      "    1 * |5>|a=0>|c0=0>|c1=0>\n",
      "(3 + 3) % 11 = \n",
      "    1 * |6>|a=0>|c0=0>|c1=0>\n",
      "(4 + 3) % 11 = \n",
      "    1 * |7>|a=0>|c0=0>|c1=0>\n",
      "(5 + 3) % 11 = \n",
      "    1 * |8>|a=0>|c0=0>|c1=0>\n",
      "(6 + 3) % 11 = \n",
      "    1 * |9>|a=0>|c0=0>|c1=0>\n",
      "(7 + 3) % 11 = \n",
      "    1 * |10>|a=0>|c0=0>|c1=0>\n",
      "(8 + 3) % 11 = \n",
      "    1 * |0>|a=0>|c0=0>|c1=0>\n",
      "(9 + 3) % 11 = \n",
      "    1 * |1>|a=0>|c0=0>|c1=0>\n",
      "(10 + 3) % 11 = \n",
      "    1 * |2>|a=0>|c0=0>|c1=0>\n",
      "(11 + 3) % 11 = \n",
      "    1 * |11>|a=0>|c0=0>|c1=0>\n",
      "(12 + 3) % 11 = \n",
      "    1 * |12>|a=0>|c0=0>|c1=0>\n",
      "(13 + 3) % 11 = \n",
      "    1 * |13>|a=0>|c0=0>|c1=0>\n",
      "(14 + 3) % 11 = \n",
      "    1 * |14>|a=0>|c0=0>|c1=0>\n",
      "(15 + 3) % 11 = \n",
      "    1 * |15>|a=0>|c0=0>|c1=0>\n"
     ]
    }
   ],
   "source": [
    "print(st)\n",
    "par_ybits=[0,1,2,3]\n",
    "par_abits=[4,5,6]\n",
    "op=modadd(3,sqc.operator(7),par_ybits,11,par_abits)\n",
    "opinc=add(1,sqc.operator(7),par_ybits)\n",
    "st0=st\n",
    "for y in range(2**len(par_ybits)):\n",
    "    st1=op*st0\n",
    "    print(\"(%d + 3) %% 11 = \\n\" % y,st1)\n",
    "    st0=opinc*st0"
   ]
  },
  {
   "cell_type": "markdown",
   "metadata": {},
   "source": [
    "# Controlled addition modulo $n$"
   ]
  },
  {
   "cell_type": "code",
   "execution_count": 8,
   "metadata": {},
   "outputs": [],
   "source": [
    "def csmallerThan(c0,c,t,xbits,a,op): # control bit c0\n",
    "    pbits=xbits + [a]\n",
    "    N=len(pbits)\n",
    "    op=cadd(c0,2**N - c,op,pbits)\n",
    "    op=op.CNOT(a,t)\n",
    "    op=cadd(c0,c,op,pbits)\n",
    "    return op\n",
    "\n",
    "def cmodadd(c,x,op,ybits,n,abits):\n",
    "    assert(len(abits)==3)\n",
    "    assert(x<n)\n",
    "    a=abits[0]\n",
    "    c0=abits[1] # y < n\n",
    "    c1=abits[2] # y < n-x\n",
    "    \n",
    "    op=csmallerThan(c,n,c0,ybits,a,op)\n",
    "    op=csmallerThan(c,n-x,c1,ybits,a,op)\n",
    "\n",
    "    # if c0 and not c1: y = y + x - n  -> \n",
    "    op=C2NOT(c0,c1,a,op.X(c1)).X(c1)\n",
    "    op=cadd(a,x-n,op,ybits)\n",
    "    op=C2NOT(c0,c1,a,op.X(c1)).X(c1)\n",
    "\n",
    "    # if c0 and c1: y = y + x\n",
    "    op=C2NOT(c0,c1,a,op)\n",
    "    op=cadd(a,x,op,ybits)\n",
    "    op=C2NOT(c0,c1,a,op)\n",
    "\n",
    "    # untrigger c0 and c1 based on result in y\n",
    "    op=csmallerThan(c,x,c1,ybits,a,op) \n",
    "    # (x+y) % n < x   -> c1 was not set, after this c1 will be equal to c0\n",
    "    \n",
    "    op=op.CNOT(c0,c1) # clear c1\n",
    "    op=csmallerThan(c,n,c0,ybits,a,op) # clear c0\n",
    "    return op\n",
    "\n",
    "st=sqc.state(8,basis = [\"|%d>|a=%d>|c0=%d>|c1=%d>|c=%d>\" % \n",
    "                        (pr(i,0,4),pr(i,4,1),pr(i,5,1),pr(i,6,1),pr(i,7,1)) for i in range(2**8)])"
   ]
  },
  {
   "cell_type": "code",
   "execution_count": 9,
   "metadata": {
    "scrolled": false
   },
   "outputs": [
    {
     "name": "stdout",
     "output_type": "stream",
     "text": [
      "   1 * |0>|a=0>|c0=0>|c1=0>|c=0>\n",
      "(0 + 3) % 11 = \n",
      "    0.707107 * |0>|a=0>|c0=0>|c1=0>|c=0>\n",
      " + 0.707107 * |3>|a=0>|c0=0>|c1=0>|c=1>\n",
      "(1 + 3) % 11 = \n",
      "    0.707107 * |1>|a=0>|c0=0>|c1=0>|c=0>\n",
      " + 0.707107 * |4>|a=0>|c0=0>|c1=0>|c=1>\n",
      "(2 + 3) % 11 = \n",
      "    0.707107 * |2>|a=0>|c0=0>|c1=0>|c=0>\n",
      " + 0.707107 * |5>|a=0>|c0=0>|c1=0>|c=1>\n",
      "(3 + 3) % 11 = \n",
      "    0.707107 * |3>|a=0>|c0=0>|c1=0>|c=0>\n",
      " + 0.707107 * |6>|a=0>|c0=0>|c1=0>|c=1>\n",
      "(4 + 3) % 11 = \n",
      "    0.707107 * |4>|a=0>|c0=0>|c1=0>|c=0>\n",
      " + 0.707107 * |7>|a=0>|c0=0>|c1=0>|c=1>\n",
      "(5 + 3) % 11 = \n",
      "    0.707107 * |5>|a=0>|c0=0>|c1=0>|c=0>\n",
      " + 0.707107 * |8>|a=0>|c0=0>|c1=0>|c=1>\n",
      "(6 + 3) % 11 = \n",
      "    0.707107 * |6>|a=0>|c0=0>|c1=0>|c=0>\n",
      " + 0.707107 * |9>|a=0>|c0=0>|c1=0>|c=1>\n",
      "(7 + 3) % 11 = \n",
      "    0.707107 * |7>|a=0>|c0=0>|c1=0>|c=0>\n",
      " + 0.707107 * |10>|a=0>|c0=0>|c1=0>|c=1>\n",
      "(8 + 3) % 11 = \n",
      "    0.707107 * |8>|a=0>|c0=0>|c1=0>|c=0>\n",
      " + 0.707107 * |0>|a=0>|c0=0>|c1=0>|c=1>\n",
      "(9 + 3) % 11 = \n",
      "    0.707107 * |9>|a=0>|c0=0>|c1=0>|c=0>\n",
      " + 0.707107 * |1>|a=0>|c0=0>|c1=0>|c=1>\n",
      "(10 + 3) % 11 = \n",
      "    0.707107 * |10>|a=0>|c0=0>|c1=0>|c=0>\n",
      " + 0.707107 * |2>|a=0>|c0=0>|c1=0>|c=1>\n",
      "(11 + 3) % 11 = \n",
      "    0.707107 * |11>|a=0>|c0=0>|c1=0>|c=0>\n",
      " + 0.707107 * |11>|a=0>|c0=0>|c1=0>|c=1>\n",
      "(12 + 3) % 11 = \n",
      "    0.707107 * |12>|a=0>|c0=0>|c1=0>|c=0>\n",
      " + 0.707107 * |12>|a=0>|c0=0>|c1=0>|c=1>\n",
      "(13 + 3) % 11 = \n",
      "    0.707107 * |13>|a=0>|c0=0>|c1=0>|c=0>\n",
      " + 0.707107 * |13>|a=0>|c0=0>|c1=0>|c=1>\n",
      "(14 + 3) % 11 = \n",
      "    0.707107 * |14>|a=0>|c0=0>|c1=0>|c=0>\n",
      " + 0.707107 * |14>|a=0>|c0=0>|c1=0>|c=1>\n",
      "(15 + 3) % 11 = \n",
      "    0.707107 * |15>|a=0>|c0=0>|c1=0>|c=0>\n",
      " + 0.707107 * |15>|a=0>|c0=0>|c1=0>|c=1>\n"
     ]
    }
   ],
   "source": [
    "print(st)\n",
    "par_ybits=[0,1,2,3]\n",
    "par_abits=[4,5,6]\n",
    "par_cbit=7\n",
    "op=cmodadd(par_cbit,3,sqc.operator(8),par_ybits,11,par_abits)\n",
    "opinc=add(1,sqc.operator(8),par_ybits)\n",
    "st0=sqc.operator(8).H(par_cbit)*st\n",
    "for y in range(2**len(par_ybits)):\n",
    "    st1=op*st0\n",
    "    print(\"(%d + 3) %% 11 = \\n\" % y,st1)\n",
    "    st0=opinc*st0"
   ]
  },
  {
   "cell_type": "markdown",
   "metadata": {},
   "source": [
    "# Modulo $n$ multiply accumulator"
   ]
  },
  {
   "cell_type": "code",
   "execution_count": 10,
   "metadata": {
    "scrolled": true
   },
   "outputs": [
    {
     "name": "stdout",
     "output_type": "stream",
     "text": [
      "Start with\n",
      "    1 * |2>|0>|a=0>\n",
      "Mult by 3 mod 5\n",
      "    1 * |2>|1>|a=0>\n"
     ]
    }
   ],
   "source": [
    "def bits(y,N):\n",
    "    return [ (y//2**j) % 2 for j in range(N) ]\n",
    "\n",
    "def ci(x,n,N):\n",
    "    b=bits(x,N)\n",
    "    return [ sum([ b[j]*2**(i+j) for j in range(N) ]) % n for i in range(N) ]\n",
    "\n",
    "# Now mod multiply\n",
    "def modmultacc(x,n,op,ybits,tbits,abits):\n",
    "    assert(len(abits)==3)\n",
    "    Nbits=len(ybits)\n",
    "    assert(len(tbits)==len(ybits))\n",
    "    c=ci(x,n,2**Nbits)\n",
    "    for i in range(Nbits):\n",
    "        op=cmodadd(ybits[i],c[i],op,tbits,n,abits)\n",
    "    return op\n",
    "\n",
    "par_ybits=[0,1,2]\n",
    "par_tbits=[3,4,5]\n",
    "par_abits=[6,7,8]\n",
    "\n",
    "st=sqc.state(9,basis = [\"|%d>|%d>|a=%d>\" % \n",
    "                        (pr(i,0,3),pr(i,3,3),pr(i,6,3)) for i in range(2**9)])\n",
    "st=sqc.operator(9).X(1)*st\n",
    "\n",
    "print(\"Start with\\n\",st)\n",
    "\n",
    "op=modmultacc(3,5,sqc.operator(9),ybits=par_ybits,tbits=par_tbits,abits=par_abits)\n",
    "st=op*st\n",
    "print(\"Mult by 3 mod 5\\n\",st)"
   ]
  },
  {
   "cell_type": "code",
   "execution_count": 11,
   "metadata": {},
   "outputs": [
    {
     "name": "stdout",
     "output_type": "stream",
     "text": [
      "Mult by 3 mod 5\n",
      "    1 * |2>|2>|a=0>\n"
     ]
    }
   ],
   "source": [
    "st=op*st\n",
    "print(\"Mult by 3 mod 5\\n\",st)"
   ]
  },
  {
   "cell_type": "markdown",
   "metadata": {},
   "source": [
    "# Modulo $n$ multiply"
   ]
  },
  {
   "cell_type": "code",
   "execution_count": 12,
   "metadata": {},
   "outputs": [],
   "source": [
    "def egcd(a, b):\n",
    "    if a == 0:\n",
    "        return (b, 0, 1)\n",
    "    else:\n",
    "        g, y, x = egcd(b % a, a)\n",
    "        return (g, x - (b // a) * y, y)\n",
    "\n",
    "def modinv(a, m): # calculate modular inverse using the greatest common divisor\n",
    "    g, x, y = egcd(a, m)\n",
    "    if g != 1:\n",
    "        raise Exception('modular inverse does not exist')\n",
    "    else:\n",
    "        return x % m"
   ]
  },
  {
   "cell_type": "code",
   "execution_count": 15,
   "metadata": {},
   "outputs": [
    {
     "name": "stdout",
     "output_type": "stream",
     "text": [
      "Start with\n",
      "    1 * |2>|0>|a=0>\n",
      "Mult by 3 mod 5\n",
      "    1 * |1>|0>|a=0>\n"
     ]
    }
   ],
   "source": [
    "def modmult(x,n,op,ybits,abits):\n",
    "    assert(len(abits)==3+len(ybits))\n",
    "    tbits=abits[:-3]\n",
    "    abits=abits[-3:]\n",
    "    Nbits=len(ybits)\n",
    "    nix=n - modinv(x,n)\n",
    "    \n",
    "    op=modmultacc(x,n,op,ybits,tbits=tbits,abits=abits)\n",
    "    for i in range(Nbits):\n",
    "        op=SWAP(ybits[i],tbits[i],op)\n",
    "        \n",
    "    op=modmultacc(nix,n,op,ybits,tbits=tbits,abits=abits)\n",
    "    return op\n",
    "\n",
    "st=sqc.state(9,basis = [\"|%d>|%d>|a=%d>\" % \n",
    "                        (pr(i,0,3),pr(i,3,3),pr(i,6,3)) for i in range(2**9)])\n",
    "st=sqc.operator(9).X(1)*st\n",
    "print(\"Start with\\n\",st)\n",
    "\n",
    "par_abits=[3,4,5,6,7,8]\n",
    "\n",
    "op=modmult(3,5,sqc.operator(9),ybits=par_ybits,abits=par_abits)\n",
    "st=op*st\n",
    "print(\"Mult by 3 mod 5\\n\",st)"
   ]
  },
  {
   "cell_type": "code",
   "execution_count": 16,
   "metadata": {},
   "outputs": [
    {
     "name": "stdout",
     "output_type": "stream",
     "text": [
      "Mult by 3 mod 5\n",
      "    1 * |3>|0>|a=0>\n"
     ]
    }
   ],
   "source": [
    "st=op*st\n",
    "print(\"Mult by 3 mod 5\\n\",st)"
   ]
  },
  {
   "cell_type": "code",
   "execution_count": 17,
   "metadata": {},
   "outputs": [
    {
     "name": "stdout",
     "output_type": "stream",
     "text": [
      "Mult by 3 mod 5\n",
      "    1 * |4>|0>|a=0>\n"
     ]
    }
   ],
   "source": [
    "st=op*st\n",
    "print(\"Mult by 3 mod 5\\n\",st)"
   ]
  },
  {
   "cell_type": "code",
   "execution_count": 18,
   "metadata": {},
   "outputs": [
    {
     "name": "stdout",
     "output_type": "stream",
     "text": [
      "Mult by 3 mod 5\n",
      "    1 * |2>|0>|a=0>\n"
     ]
    }
   ],
   "source": [
    "st=op*st\n",
    "print(\"Mult by 3 mod 5\\n\",st)\n"
   ]
  },
  {
   "cell_type": "markdown",
   "metadata": {},
   "source": [
    "# Controlled modulo $n$ multiplication"
   ]
  },
  {
   "cell_type": "code",
   "execution_count": 20,
   "metadata": {},
   "outputs": [
    {
     "name": "stdout",
     "output_type": "stream",
     "text": [
      "Start with\n",
      "    0.707107 * |2>|a=0>|c=0>\n",
      " + 0.707107 * |2>|a=0>|c=1>\n",
      "Mult by 3 mod 5\n",
      "    0.707107 * |2>|a=0>|c=0>\n",
      " + 0.707107 * |1>|a=0>|c=1>\n"
     ]
    }
   ],
   "source": [
    "def cmodmultacc(x,n,op,ybits,tbits,abits,cbit):\n",
    "    assert(len(abits)==4)\n",
    "    \n",
    "    tmpbit=abits[3]\n",
    "    \n",
    "    Nbits=len(ybits)\n",
    "    c=ci(x,n,2**Nbits)\n",
    "    for i in range(Nbits):\n",
    "        op=C2NOT(ybits[i],cbit,tmpbit,op)\n",
    "        op=cmodadd(tmpbit,c[i],op,tbits,n,abits[0:3])\n",
    "        op=C2NOT(ybits[i],cbit,tmpbit,op)\n",
    "    return op\n",
    "\n",
    "def cmodmult(x,n,op,ybits,abits,cbit):\n",
    "    assert(len(abits)==4+len(ybits))\n",
    "    tbits=abits[:-4]\n",
    "    abits=abits[-4:]\n",
    "    Nbits=len(ybits)\n",
    "    nix=n - modinv(x,n)\n",
    "    \n",
    "    op=cmodmultacc(x,n,op,ybits,tbits=tbits,abits=abits,cbit=cbit)\n",
    "    for i in range(Nbits):\n",
    "        op=CSWAP(cbit,ybits[i],tbits[i],op)\n",
    "        \n",
    "    op=cmodmultacc(nix,n,op,ybits,tbits=tbits,abits=abits,cbit=cbit)\n",
    "    return op\n",
    "\n",
    "\n",
    "par_ybits=[0,1,2]\n",
    "par_abits=[3,4,5,6,7,8,9]\n",
    "par_cbit=10\n",
    "\n",
    "st=sqc.state(11,basis = [\"|%d>|a=%d>|c=%d>\" % \n",
    "                         (pr(i,0,3),pr(i,3,7),pr(i,10,1)) for i in range(2**11)])\n",
    "st=sqc.operator(11).X(1).H(par_cbit)*st\n",
    "print(\"Start with\\n\",st)\n",
    "\n",
    "op=cmodmult(3,5,sqc.operator(11),ybits=par_ybits,abits=par_abits,cbit=par_cbit)\n",
    "st=op*st\n",
    "print(\"Mult by 3 mod 5\\n\",st)"
   ]
  },
  {
   "cell_type": "code",
   "execution_count": 21,
   "metadata": {},
   "outputs": [
    {
     "name": "stdout",
     "output_type": "stream",
     "text": [
      "Mult by 3 mod 5\n",
      "    0.707107 * |2>|a=0>|c=0>\n",
      " + 0.707107 * |3>|a=0>|c=1>\n"
     ]
    }
   ],
   "source": [
    "st=op*st\n",
    "print(\"Mult by 3 mod 5\\n\",st)"
   ]
  },
  {
   "cell_type": "markdown",
   "metadata": {},
   "source": [
    "# Phase estimation"
   ]
  },
  {
   "cell_type": "code",
   "execution_count": 46,
   "metadata": {},
   "outputs": [
    {
     "name": "stdout",
     "output_type": "stream",
     "text": [
      "Initial state\n",
      "    1 * |1>|a=0>|x=0>\n"
     ]
    }
   ],
   "source": [
    "par_ybits=[0,1,2]\n",
    "par_abits=[3,4,5,6,7,8,9]\n",
    "par_xbits=[10,11,12,13]\n",
    "\n",
    "st=sqc.state(14,basis = [\"|%d>|a=%d>|x=%d>\" % \n",
    "                         (pr(i,0,3),pr(i,3,7),pr(i,10,4)) for i in range(2**14)])\n",
    "st=sqc.operator(14).X(par_ybits[0])*st\n",
    "print(\"Initial state\\n\",st)\n",
    "opMM=dict([ (2**j,cmodmult((3**(2**j)) % 5,5,sqc.operator(14),ybits=par_ybits,\n",
    "                abits=par_abits,cbit=par_xbits[j])) for j in range(len(par_xbits)) ])"
   ]
  },
  {
   "cell_type": "code",
   "execution_count": 47,
   "metadata": {},
   "outputs": [
    {
     "data": {
      "image/png": "[encoded data removed]",
      "text/plain": [
       "<Figure size 432x288 with 1 Axes>"
      ]
     },
     "metadata": {
      "needs_background": "light"
     },
     "output_type": "display_data"
    }
   ],
   "source": [
    "def cujMM(cbit,j,op):\n",
    "    return op + opMM[j]\n",
    "\n",
    "st1=phaseEstimate(sqc.operator(14),par_xbits,cujMM)*st\n",
    "\n",
    "res=sqc.sample(st1,1000,mask=par_xbits)\n",
    "        \n",
    "plt.bar([ x / 2**len(par_xbits) for x in res.keys() ],res.values(),width=0.01)\n",
    "plt.xlabel('phi')\n",
    "plt.xlim(0,1)\n",
    "plt.ylabel('count')\n",
    "plt.show()"
   ]
  },
  {
   "cell_type": "code",
   "execution_count": 48,
   "metadata": {},
   "outputs": [
    {
     "name": "stdout",
     "output_type": "stream",
     "text": [
      "0 277\n",
      "4 214\n",
      "8 268\n",
      "12 241\n"
     ]
    }
   ],
   "source": [
    "for x in sorted(res):\n",
    "    print(x, res[x])"
   ]
  },
  {
   "cell_type": "code",
   "execution_count": 51,
   "metadata": {},
   "outputs": [
    {
     "name": "stdout",
     "output_type": "stream",
     "text": [
      "0 1\n",
      "1 3\n",
      "2 4\n",
      "3 2\n",
      "4 1\n"
     ]
    }
   ],
   "source": [
    "# Check\n",
    "for i in range(5):\n",
    "    print(i,3**i % 5)"
   ]
  },
  {
   "cell_type": "code",
   "execution_count": null,
   "metadata": {},
   "outputs": [],
   "source": []
  }
 ],
 "metadata": {
  "kernelspec": {
   "display_name": "Python 3",
   "language": "python",
   "name": "python3"
  },
  "language_info": {
   "codemirror_mode": {
    "name": "ipython",
    "version": 3
   },
   "file_extension": ".py",
   "mimetype": "text/x-python",
   "name": "python",
   "nbconvert_exporter": "python",
   "pygments_lexer": "ipython3",
   "version": "3.7.3"
  }
 },
 "nbformat": 4,
 "nbformat_minor": 2
}
