{
 "cells": [
  {
   "cell_type": "code",
   "execution_count": 30,
   "metadata": {},
   "outputs": [],
   "source": [
    "import sqc\n",
    "import numpy as np\n",
    "from exercises import qft\n",
    "import matplotlib.pyplot as plt"
   ]
  },
  {
   "cell_type": "markdown",
   "metadata": {},
   "source": [
    "# Phase estimation"
   ]
  },
  {
   "cell_type": "code",
   "execution_count": 37,
   "metadata": {},
   "outputs": [],
   "source": [
    "def phaseEstimate(op,xbits,cuj):\n",
    "    N=len(xbits)\n",
    "    for i in reversed(range(N)):\n",
    "        op=op.H(xbits[i])\n",
    "        op=cuj(xbits[i],2**i,op)\n",
    "    op=qft(op,mask=xbits,inverse=True)\n",
    "    return op\n",
    "\n",
    "# Simple U = {{ Exp[I 2pi phi], 0}, { 0, Exp[-I 2pi phi] }}, always acting on LSB\n",
    "def CU(i,k,op,phi): # i is control qubit, k is power\n",
    "    return op.Rz(0,2.*np.pi*phi*k).CNOT(i,0).Rz(0,-2.*np.pi*phi*k).CNOT(i,0)\n",
    "\n",
    "def measure(Nxbits,ph,Nmeasure):\n",
    "    Nbits=Nxbits+1\n",
    "    xbits=list(range(1,Nbits))\n",
    "    \n",
    "    st0=sqc.state(Nbits,basis=[\"|%g>|%d>\" % ( (i//2) / 2**Nxbits,i%2) for i in range(2**Nbits)])\n",
    "    print(\"Initial = 0\\n\",st0)\n",
    "\n",
    "    st1=phaseEstimate(sqc.operator(Nbits).H(0),xbits,\n",
    "                    lambda i,k,op: CU(i,k,op,ph))*st0\n",
    "\n",
    "    if Nmeasure == 0:\n",
    "        print(\"State after phaseEstimate\\n\",st1)\n",
    "    else:\n",
    "        res=sqc.sample(st1,Nmeasure,mask=xbits)\n",
    "        \n",
    "        plt.bar([ (x//2) / 2**Nxbits for x in res.keys() ],res.values(),width=0.01)\n",
    "        plt.xlabel('phi')\n",
    "        plt.xlim(0,1)\n",
    "        plt.ylabel('count')\n",
    "        plt.show()\n",
    "        \n",
    "    \n"
   ]
  },
  {
   "cell_type": "code",
   "execution_count": 38,
   "metadata": {},
   "outputs": [
    {
     "name": "stdout",
     "output_type": "stream",
     "text": [
      "Initial = 0\n",
      "    1 * |0>|0>\n",
      "State after phaseEstimate\n",
      "    0.707107 * |0.25>|1>\n",
      " + 0.707107 * |0.75>|0>\n"
     ]
    }
   ],
   "source": [
    "measure(4,0.25,0)"
   ]
  },
  {
   "cell_type": "code",
   "execution_count": 40,
   "metadata": {},
   "outputs": [
    {
     "name": "stdout",
     "output_type": "stream",
     "text": [
      "Initial = 0\n",
      "    1 * |0>|0>\n"
     ]
    },
    {
     "data": {
      "image/png": "[encoded data removed]",
      "text/plain": [
       "<Figure size 432x288 with 1 Axes>"
      ]
     },
     "metadata": {
      "needs_background": "light"
     },
     "output_type": "display_data"
    }
   ],
   "source": [
    "measure(4,0.25,1000)"
   ]
  },
  {
   "cell_type": "code",
   "execution_count": 41,
   "metadata": {},
   "outputs": [
    {
     "name": "stdout",
     "output_type": "stream",
     "text": [
      "Initial = 0\n",
      "    1 * |0>|0>\n"
     ]
    },
    {
     "data": {
      "image/png": "[encoded data removed]",
      "text/plain": [
       "<Figure size 432x288 with 1 Axes>"
      ]
     },
     "metadata": {
      "needs_background": "light"
     },
     "output_type": "display_data"
    }
   ],
   "source": [
    "measure(4,0.4,1000)"
   ]
  },
  {
   "cell_type": "code",
   "execution_count": 42,
   "metadata": {},
   "outputs": [
    {
     "name": "stdout",
     "output_type": "stream",
     "text": [
      "Initial = 0\n",
      "    1 * |0>|0>\n"
     ]
    },
    {
     "data": {
      "image/png": "[encoded data removed]",
      "text/plain": [
       "<Figure size 432x288 with 1 Axes>"
      ]
     },
     "metadata": {
      "needs_background": "light"
     },
     "output_type": "display_data"
    }
   ],
   "source": [
    "measure(5,0.4,1000)"
   ]
  },
  {
   "cell_type": "code",
   "execution_count": 43,
   "metadata": {},
   "outputs": [
    {
     "name": "stdout",
     "output_type": "stream",
     "text": [
      "Initial = 0\n",
      "    1 * |0>|0>\n"
     ]
    },
    {
     "data": {
      "image/png": "[encoded data removed]",
      "text/plain": [
       "<Figure size 432x288 with 1 Axes>"
      ]
     },
     "metadata": {
      "needs_background": "light"
     },
     "output_type": "display_data"
    }
   ],
   "source": [
    "measure(6,0.4,1000)"
   ]
  },
  {
   "cell_type": "code",
   "execution_count": 44,
   "metadata": {},
   "outputs": [
    {
     "name": "stdout",
     "output_type": "stream",
     "text": [
      "Initial = 0\n",
      "    1 * |0>|0>\n"
     ]
    },
    {
     "data": {
      "image/png": "[encoded data removed]",
      "text/plain": [
       "<Figure size 432x288 with 1 Axes>"
      ]
     },
     "metadata": {
      "needs_background": "light"
     },
     "output_type": "display_data"
    }
   ],
   "source": [
    "measure(7,0.4,1000)"
   ]
  },
  {
   "cell_type": "code",
   "execution_count": null,
   "metadata": {},
   "outputs": [],
   "source": []
  }
 ],
 "metadata": {
  "kernelspec": {
   "display_name": "Python 3",
   "language": "python",
   "name": "python3"
  },
  "language_info": {
   "codemirror_mode": {
    "name": "ipython",
    "version": 3
   },
   "file_extension": ".py",
   "mimetype": "text/x-python",
   "name": "python",
   "nbconvert_exporter": "python",
   "pygments_lexer": "ipython3",
   "version": "3.7.3"
  }
 },
 "nbformat": 4,
 "nbformat_minor": 2
}
