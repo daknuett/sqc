{
 "cells": [
  {
   "cell_type": "code",
   "execution_count": 1,
   "metadata": {},
   "outputs": [],
   "source": [
    "import sqc"
   ]
  },
  {
   "cell_type": "code",
   "execution_count": 2,
   "metadata": {},
   "outputs": [],
   "source": [
    "Nbits=2\n",
    "\n",
    "def Uf_const(o): # N=1, f(x)=1\n",
    "    return o.NOT(1)\n",
    "\n",
    "def Uf_balanced(o): # N=1, f(x)=x\n",
    "    return o.CNOT(0,1)"
   ]
  },
  {
   "cell_type": "code",
   "execution_count": 3,
   "metadata": {},
   "outputs": [
    {
     "name": "stdout",
     "output_type": "stream",
     "text": [
      "OPENQASM 2.0;\n",
      "include \"qelib1.inc\";\n",
      "qreg qr[2];\n",
      "creg cr[2];\n",
      "x qr[1];\n",
      "h qr[0];\n",
      "h qr[1];\n",
      "x qr[1];\n",
      "h qr[0];\n",
      "measure qr -> cr;\n",
      "\n"
     ]
    }
   ],
   "source": [
    "op=Uf_const(sqc.operator(Nbits).X(1).H(0).H(1)).H(0)\n",
    "print(op.toQASM())\n"
   ]
  },
  {
   "cell_type": "code",
   "execution_count": 5,
   "metadata": {},
   "outputs": [
    {
     "name": "stdout",
     "output_type": "stream",
     "text": [
      "Run Deutsch-Jozsa for f(x)=1\n",
      "--------------------------------------\n",
      "|Psi0> = \n",
      "   (1+0j) * |0>|1>\n",
      "\n",
      "|Psi1> = \n",
      "   (0.4999999999999999+0j)  * |0>|0>\n",
      " + (0.4999999999999999+0j)  * |1>|0>\n",
      " + (-0.4999999999999999+0j) * |0>|1>\n",
      " + (-0.4999999999999999+0j) * |1>|1>\n",
      "\n",
      "|Psi2> = \n",
      "   (-0.4999999999999999+0j) * |0>|0>\n",
      " + (-0.4999999999999999+0j) * |1>|0>\n",
      " + (0.4999999999999999+0j)  * |0>|1>\n",
      " + (0.4999999999999999+0j)  * |1>|1>\n",
      "\n",
      "|Psi3> = \n",
      "   (-0.7071067811865474+0j) * |0>|0>\n",
      " + (0.7071067811865474+0j)  * |0>|1>\n",
      "\n",
      "Result: 0, f(x)=1 is constant\n",
      "\n",
      "\n",
      "Run Deutsch-Jozsa for f(x)=0\n",
      "--------------------------------------\n",
      "|Psi0> = \n",
      "   (1+0j) * |0>|1>\n",
      "\n",
      "|Psi1> = \n",
      "   (0.4999999999999999+0j)  * |0>|0>\n",
      " + (0.4999999999999999+0j)  * |1>|0>\n",
      " + (-0.4999999999999999+0j) * |0>|1>\n",
      " + (-0.4999999999999999+0j) * |1>|1>\n",
      "\n",
      "|Psi2> = \n",
      "   (0.4999999999999999+0j)  * |0>|0>\n",
      " + (0.4999999999999999+0j)  * |1>|0>\n",
      " + (-0.4999999999999999+0j) * |0>|1>\n",
      " + (-0.4999999999999999+0j) * |1>|1>\n",
      "\n",
      "|Psi3> = \n",
      "   (0.7071067811865474+0j)  * |0>|0>\n",
      " + (-0.7071067811865474+0j) * |0>|1>\n",
      "\n",
      "Result: 0, f(x)=0 is constant\n",
      "\n",
      "\n",
      "Run Deutsch-Jozsa for f(x)=x\n",
      "--------------------------------------\n",
      "|Psi0> = \n",
      "   (1+0j) * |0>|1>\n",
      "\n",
      "|Psi1> = \n",
      "   (0.4999999999999999+0j)  * |0>|0>\n",
      " + (0.4999999999999999+0j)  * |1>|0>\n",
      " + (-0.4999999999999999+0j) * |0>|1>\n",
      " + (-0.4999999999999999+0j) * |1>|1>\n",
      "\n",
      "|Psi2> = \n",
      "   (0.4999999999999999+0j)  * |0>|0>\n",
      " + (-0.4999999999999999+0j) * |1>|0>\n",
      " + (-0.4999999999999999+0j) * |0>|1>\n",
      " + (0.4999999999999999+0j)  * |1>|1>\n",
      "\n",
      "|Psi3> = \n",
      "   (0.7071067811865474+0j)  * |1>|0>\n",
      " + (-0.7071067811865474+0j) * |1>|1>\n",
      "\n",
      "Result: 1, f(x)=x is balanced\n",
      "\n",
      "\n"
     ]
    }
   ],
   "source": [
    "for Uf,n in [ (Uf_const,\"f(x)=1\"), (Uf_balanced,\"f(x)=x\") ]:\n",
    "    print(\"Run Deutsch-Jozsa for %s\" % n)\n",
    "    print(\"--------------------------------------\")\n",
    "\n",
    "    # Psi0\n",
    "    psi0=sqc.operator(Nbits).X(1) * sqc.state(Nbits, basis=[ \"|%d>|%d>\" % (i%2,i//2) for i in range(4) ])\n",
    "    print(\"|Psi0> = \")\n",
    "    print(psi0)\n",
    "    print(\"\")\n",
    "\n",
    "    # Psi1\n",
    "    psi1=sqc.operator(Nbits).H(0).H(1) * psi0\n",
    "    print(\"|Psi1> = \")\n",
    "    print(psi1)\n",
    "    print(\"\")\n",
    "\n",
    "    # Psi2\n",
    "    psi2=Uf(sqc.operator(Nbits)) * psi1\n",
    "    print(\"|Psi2> = \")\n",
    "    print(psi2)\n",
    "    print(\"\")\n",
    "\n",
    "    # Psi3\n",
    "    psi3=sqc.operator(Nbits).H(0) * psi2\n",
    "    print(\"|Psi3> = \")\n",
    "    print(psi3)\n",
    "    print(\"\")\n",
    "\n",
    "    # Measurement\n",
    "    psi4,r=psi3.measure(0)\n",
    "    print(\"Result: %d, %s is %s\" % (r,n,[\"constant\",\"balanced\"][r]))\n",
    "\n",
    "    print(\"\")\n",
    "    print(\"\")"
   ]
  },
  {
   "cell_type": "code",
   "execution_count": null,
   "metadata": {},
   "outputs": [],
   "source": []
  }
 ],
 "metadata": {
  "kernelspec": {
   "display_name": "Python 3",
   "language": "python",
   "name": "python3"
  },
  "language_info": {
   "codemirror_mode": {
    "name": "ipython",
    "version": 3
   },
   "file_extension": ".py",
   "mimetype": "text/x-python",
   "name": "python",
   "nbconvert_exporter": "python",
   "pygments_lexer": "ipython3",
   "version": "3.7.3"
  }
 },
 "nbformat": 4,
 "nbformat_minor": 2
}
