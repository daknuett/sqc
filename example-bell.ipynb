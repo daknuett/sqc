{
 "cells": [
  {
   "cell_type": "code",
   "execution_count": 1,
   "metadata": {},
   "outputs": [],
   "source": [
    "import sqc"
   ]
  },
  {
   "cell_type": "code",
   "execution_count": 3,
   "metadata": {},
   "outputs": [
    {
     "name": "stdout",
     "output_type": "stream",
     "text": [
      "   1 * |00>\n"
     ]
    }
   ],
   "source": [
    "Nbits=2\n",
    "\n",
    "# Create Bell state\n",
    "s0=sqc.state(Nbits)\n",
    "print(s0)\n",
    "op=sqc.operator(Nbits).H(0).CNOT(0,1)\n",
    "s=op * s0"
   ]
  },
  {
   "cell_type": "code",
   "execution_count": 4,
   "metadata": {},
   "outputs": [
    {
     "name": "stdout",
     "output_type": "stream",
     "text": [
      "Bell state\n",
      "   0.707107 * |00>\n",
      " + 0.707107 * |11>\n"
     ]
    }
   ],
   "source": [
    "# Print state\n",
    "print(\"Bell state\")\n",
    "print(s)"
   ]
  },
  {
   "cell_type": "code",
   "execution_count": 5,
   "metadata": {},
   "outputs": [
    {
     "name": "stdout",
     "output_type": "stream",
     "text": [
      "OPENQASM 2.0;\n",
      "include \"qelib1.inc\";\n",
      "qreg qr[2];\n",
      "creg cr[2];\n",
      "h qr[0];\n",
      "cx qr[0],qr[1];\n",
      "measure qr -> cr;\n",
      "\n"
     ]
    }
   ],
   "source": [
    "print(op.toQASM())"
   ]
  },
  {
   "cell_type": "code",
   "execution_count": 4,
   "metadata": {},
   "outputs": [
    {
     "name": "stdout",
     "output_type": "stream",
     "text": [
      "Measurement # 0:    (1+0j) * |11> | 11\n",
      "Measurement # 1:    (1+0j) * |11> | 11\n",
      "Measurement # 2:    (1+0j) * |11> | 11\n",
      "Measurement # 3:    (1+0j) * |11> | 11\n",
      "Measurement # 4:    (1+0j) * |00> | 00\n",
      "Measurement # 5:    (1+0j) * |11> | 11\n",
      "Measurement # 6:    (1+0j) * |11> | 11\n",
      "Measurement # 7:    (1+0j) * |00> | 00\n",
      "Measurement # 8:    (1+0j) * |00> | 00\n",
      "Measurement # 9:    (1+0j) * |00> | 00\n"
     ]
    }
   ],
   "source": [
    "# Perform 10 measurements\n",
    "for n in range(10):\n",
    "    s0,v0=s.measure(0)\n",
    "    s1,v1=s0.measure(1)\n",
    "    \n",
    "    # And print results of state and classical bits\n",
    "    print(\"Measurement # %d: %s | %d%d\" % (n,s1,v1,v0))"
   ]
  },
  {
   "cell_type": "code",
   "execution_count": 5,
   "metadata": {},
   "outputs": [
    {
     "data": {
      "text/plain": [
       "{0: 5017, 3: 4983}"
      ]
     },
     "execution_count": 5,
     "metadata": {},
     "output_type": "execute_result"
    }
   ],
   "source": [
    "sqc.sample(s, 10000)"
   ]
  },
  {
   "cell_type": "code",
   "execution_count": null,
   "metadata": {},
   "outputs": [],
   "source": []
  }
 ],
 "metadata": {
  "kernelspec": {
   "display_name": "Python 3",
   "language": "python",
   "name": "python3"
  },
  "language_info": {
   "codemirror_mode": {
    "name": "ipython",
    "version": 3
   },
   "file_extension": ".py",
   "mimetype": "text/x-python",
   "name": "python",
   "nbconvert_exporter": "python",
   "pygments_lexer": "ipython3",
   "version": "3.7.3"
  }
 },
 "nbformat": 4,
 "nbformat_minor": 2
}
