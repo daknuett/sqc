{
 "cells": [
  {
   "cell_type": "code",
   "execution_count": 15,
   "metadata": {},
   "outputs": [
    {
     "data": {
      "text/plain": [
       "<BarContainer object of 4 artists>"
      ]
     },
     "execution_count": 15,
     "metadata": {},
     "output_type": "execute_result"
    },
    {
     "data": {
      "image/png": "[encoded data removed]",
      "text/plain": [
       "<Figure size 432x288 with 1 Axes>"
      ]
     },
     "metadata": {
      "needs_background": "light"
     },
     "output_type": "display_data"
    }
   ],
   "source": [
    "import sqc\n",
    "import matplotlib.pyplot as plt\n",
    "\n",
    "Nbits=2\n",
    "\n",
    "sqc.seed(13)\n",
    "\n",
    "# Create noise model\n",
    "nm=sqc.noise.model.simple(\n",
    "    T1 = 50,\n",
    "    gate_times = { \"H\" : 0.5, \"CNOT\" : 1.0, \"Rz\" : 0.0, \"X\": 0.5 },\n",
    "    qubit_readout_errors = [ 0.05, 0.05 ],\n",
    "    gate_depolarization_p = { \"X\" : 0.05, \"CNOT\" : 0.1, \"Rz\" : 0.0, \"H\" : 0.1 }\n",
    ")\n",
    "\n",
    "# Create Bell state\n",
    "op=sqc.operator(Nbits).H(0).CNOT(0,1)\n",
    "\n",
    "# Initial state\n",
    "s0=sqc.state(Nbits)\n",
    "\n",
    "# Sample\n",
    "res=sqc.noise.sample(nm,op,s0,1000)\n",
    "x=sorted(res.keys())\n",
    "y=[ res[i] for i in x ]\n",
    "\n",
    "plt.bar([ s0.basis[i] for i in x ],y,width=0.05)"
   ]
  },
  {
   "cell_type": "code",
   "execution_count": null,
   "metadata": {},
   "outputs": [],
   "source": []
  }
 ],
 "metadata": {
  "kernelspec": {
   "display_name": "Python 3",
   "language": "python",
   "name": "python3"
  },
  "language_info": {
   "codemirror_mode": {
    "name": "ipython",
    "version": 3
   },
   "file_extension": ".py",
   "mimetype": "text/x-python",
   "name": "python",
   "nbconvert_exporter": "python",
   "pygments_lexer": "ipython3",
   "version": "3.7.3"
  }
 },
 "nbformat": 4,
 "nbformat_minor": 2
}
