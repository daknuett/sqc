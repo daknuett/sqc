{
 "cells": [
  {
   "cell_type": "code",
   "execution_count": 2,
   "metadata": {},
   "outputs": [],
   "source": [
    "import sqc\n",
    "import numpy as np\n",
    "from exercises import qft\n",
    "import matplotlib.pyplot as plt"
   ]
  },
  {
   "cell_type": "code",
   "execution_count": 27,
   "metadata": {},
   "outputs": [],
   "source": [
    "# Create noise model for a typical 2019 quantum computer (taken from ibmqx4)\n",
    "nm2019=sqc.noise.model.simple(\n",
    "    T1 = 40,\n",
    "    gate_times = { \"H\" : 0.5, \"CNOT\" : 1.0, \"Rz\" : 0.0, \"X\": 0.5 },\n",
    "    qubit_readout_errors = [ 0.043, 0.073, 0.184, 0.35, 0.26 ],\n",
    "    gate_depolarization_p = { \"X\" : 0.005, \"CNOT\" : 0.05, \"Rz\" : 0.0, \"H\" : 0.005 }\n",
    ")"
   ]
  },
  {
   "cell_type": "markdown",
   "metadata": {},
   "source": [
    "# Phase estimation"
   ]
  },
  {
   "cell_type": "code",
   "execution_count": 29,
   "metadata": {},
   "outputs": [],
   "source": [
    "def phaseEstimate(op,xbits,cuj):\n",
    "    N=len(xbits)\n",
    "    for i in reversed(range(N)):\n",
    "        op=op.H(xbits[i])\n",
    "        op=cuj(xbits[i],2**i,op)\n",
    "    op=qft(op,mask=xbits,inverse=True)\n",
    "    return op\n",
    "\n",
    "# Simple U = {{ Exp[I 2pi phi], 0}, { 0, Exp[-I 2pi phi] }}, always acting on LSB\n",
    "def CU(i,k,op,phi): # i is control qubit, k is power\n",
    "    return op.Rz(0,2.*np.pi*phi*k).CNOT(i,0).Rz(0,-2.*np.pi*phi*k).CNOT(i,0)\n",
    "\n",
    "def measure(nm,Nxbits,Nmeasure,cuj):\n",
    "    Nbits=Nxbits+1\n",
    "    xbits=list(range(1,Nbits))\n",
    "    \n",
    "    st0=sqc.state(Nbits,basis=[\"|%g>|%d>\" % ( (i//2) / 2**Nxbits,i%2) for i in range(2**Nbits)])\n",
    "    print(\"Initial = 0\\n\",st0)\n",
    "\n",
    "    op=phaseEstimate(sqc.operator(Nbits).H(0),xbits,cuj)\n",
    "\n",
    "    print(len(op.m),\"gates\")\n",
    "    \n",
    "    #print(op.toQASM())\n",
    "    if Nmeasure == 0:\n",
    "        print(\"State after phaseEstimate\\n\",st1)\n",
    "    else:\n",
    "        res=sqc.noise.sample(nm,op,st0,Nmeasure,mask=xbits)\n",
    "        \n",
    "        plt.bar([ x / 2**Nxbits for x in res.keys() ],res.values(),width=0.01)\n",
    "        plt.xlabel('phi')\n",
    "        plt.xlim(0,1)\n",
    "        plt.ylabel('count')\n",
    "        plt.show()\n",
    "        \n",
    "        print(res)\n",
    "        \n",
    "    \n"
   ]
  },
  {
   "cell_type": "code",
   "execution_count": 30,
   "metadata": {},
   "outputs": [
    {
     "name": "stdout",
     "output_type": "stream",
     "text": [
      "Initial = 0\n",
      "    1 * |0>|0>\n",
      "61 gates\n"
     ]
    },
    {
     "data": {
      "image/png": "[encoded data removed]",
      "text/plain": [
       "<Figure size 432x288 with 1 Axes>"
      ]
     },
     "metadata": {
      "needs_background": "light"
     },
     "output_type": "display_data"
    },
    {
     "name": "stdout",
     "output_type": "stream",
     "text": [
      "{6: 44, 1: 75, 12: 65, 4: 56, 0: 63, 3: 69, 11: 65, 5: 74, 13: 86, 7: 65, 9: 75, 14: 45, 2: 51, 8: 67, 15: 62, 10: 38}\n"
     ]
    }
   ],
   "source": [
    "measure(nm2019,4,1000,lambda i,k,op: CU(i,k,op,0.3))"
   ]
  },
  {
   "cell_type": "code",
   "execution_count": 31,
   "metadata": {},
   "outputs": [
    {
     "name": "stdout",
     "output_type": "stream",
     "text": [
      "Initial = 0\n",
      "    1 * |0>|0>\n",
      "61 gates\n"
     ]
    },
    {
     "data": {
      "image/png": "[encoded data removed]",
      "text/plain": [
       "<Figure size 432x288 with 1 Axes>"
      ]
     },
     "metadata": {
      "needs_background": "light"
     },
     "output_type": "display_data"
    },
    {
     "name": "stdout",
     "output_type": "stream",
     "text": [
      "{13: 73, 1: 53, 9: 85, 15: 40, 6: 41, 8: 37, 5: 104, 12: 61, 11: 99, 7: 60, 3: 94, 0: 56, 4: 63, 10: 58, 2: 36, 14: 40}\n"
     ]
    }
   ],
   "source": [
    "# Divide readout errors by 10\n",
    "nm2019div10ro=sqc.noise.model.simple(\n",
    "    T1 = 40,\n",
    "    gate_times = { \"H\" : 0.5, \"CNOT\" : 1.0, \"Rz\" : 0.0, \"X\": 0.5 },\n",
    "    qubit_readout_errors = [ 0.0043, 0.0073, 0.0184, 0.035, 0.026 ],\n",
    "    gate_depolarization_p = { \"X\" : 0.005, \"CNOT\" : 0.05, \"Rz\" : 0.0, \"H\" : 0.005 }\n",
    ")\n",
    "\n",
    "measure(nm2019div10ro,4,1000,lambda i,k,op: CU(i,k,op,0.3))"
   ]
  },
  {
   "cell_type": "code",
   "execution_count": 32,
   "metadata": {},
   "outputs": [
    {
     "name": "stdout",
     "output_type": "stream",
     "text": [
      "Initial = 0\n",
      "    1 * |0>|0>\n",
      "61 gates\n"
     ]
    },
    {
     "data": {
      "image/png": "[encoded data removed]",
      "text/plain": [
       "<Figure size 432x288 with 1 Axes>"
      ]
     },
     "metadata": {
      "needs_background": "light"
     },
     "output_type": "display_data"
    },
    {
     "name": "stdout",
     "output_type": "stream",
     "text": [
      "{4: 73, 11: 214, 0: 26, 3: 49, 9: 69, 13: 71, 1: 55, 15: 24, 7: 31, 5: 200, 14: 23, 2: 19, 12: 44, 10: 60, 8: 22, 6: 20}\n"
     ]
    }
   ],
   "source": [
    "# Divide readout errors and gate errors by 10\n",
    "nm2019div10rog=sqc.noise.model.simple(\n",
    "    T1 = 40,\n",
    "    gate_times = { \"H\" : 0.5, \"CNOT\" : 1.0, \"Rz\" : 0.0, \"X\": 0.5 },\n",
    "    qubit_readout_errors = [ 0.0043, 0.0073, 0.0184, 0.035, 0.026 ],\n",
    "    gate_depolarization_p = { \"X\" : 0.0005, \"CNOT\" : 0.005, \"Rz\" : 0.0, \"H\" : 0.0005 }\n",
    ")\n",
    "\n",
    "measure(nm2019div10rog,4,1000,lambda i,k,op: CU(i,k,op,0.3))"
   ]
  },
  {
   "cell_type": "code",
   "execution_count": null,
   "metadata": {},
   "outputs": [],
   "source": []
  }
 ],
 "metadata": {
  "kernelspec": {
   "display_name": "Python 3",
   "language": "python",
   "name": "python3"
  },
  "language_info": {
   "codemirror_mode": {
    "name": "ipython",
    "version": 3
   },
   "file_extension": ".py",
   "mimetype": "text/x-python",
   "name": "python",
   "nbconvert_exporter": "python",
   "pygments_lexer": "ipython3",
   "version": "3.7.3"
  }
 },
 "nbformat": 4,
 "nbformat_minor": 2
}
