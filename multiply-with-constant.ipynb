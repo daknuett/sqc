{
 "cells": [
  {
   "cell_type": "code",
   "execution_count": 7,
   "metadata": {},
   "outputs": [],
   "source": [
    "import sqc\n",
    "import numpy as np\n",
    "from exercises import cqft"
   ]
  },
  {
   "cell_type": "markdown",
   "metadata": {},
   "source": [
    "# Addition through Fourier transform with control bit"
   ]
  },
  {
   "cell_type": "code",
   "execution_count": 8,
   "metadata": {},
   "outputs": [
    {
     "name": "stdout",
     "output_type": "stream",
     "text": [
      "Initial = 0\n",
      "    0.707107 * |0>|0>\n",
      " + 0.707107 * |0>|1>\n",
      "Initial + 3\n",
      "    0.707107 * |0>|0>\n",
      " + 0.707107 * |3>|1>\n",
      "Initial + 3 + 7\n",
      "    0.707107 * |0>|0>\n",
      " + 0.707107 * |10>|1>\n"
     ]
    }
   ],
   "source": [
    "def CRz(i,t,phi,o):\n",
    "    return o.Rz(t,phi/2.).CNOT(i,t).Rz(t,-phi/2.).Rz(i,phi/2.).CNOT(i,t)\n",
    "\n",
    "def add(c,y,op,xbits):\n",
    "    op=cqft(c,op,mask=xbits)\n",
    "    N=len(xbits)\n",
    "    for i in range(N):\n",
    "        op=CRz(c,xbits[i],2.*np.pi*y/2.**(N-i),op)\n",
    "    op=cqft(c,op,inverse=True,mask=xbits)\n",
    "    return op\n",
    "\n",
    "st=sqc.state(6,basis=[\"|%d>|%d>\" % (i % 2**5,i//2**5) for i in range(2**6)])\n",
    "\n",
    "xbits=[0,1,2,3,4]\n",
    "cbit=5\n",
    "\n",
    "st=sqc.operator(6).H(cbit)*st\n",
    "print(\"Initial = 0\\n\",st)\n",
    "\n",
    "st=add(cbit,3,sqc.operator(6),xbits=xbits)*st\n",
    "print(\"Initial + 3\\n\",st)\n",
    "st=add(cbit,7,sqc.operator(6),xbits=xbits)*st\n",
    "print(\"Initial + 3 + 7\\n\",st)"
   ]
  },
  {
   "cell_type": "markdown",
   "metadata": {},
   "source": [
    "# Precompute ci"
   ]
  },
  {
   "cell_type": "code",
   "execution_count": 9,
   "metadata": {},
   "outputs": [],
   "source": [
    "def bits(y,N):\n",
    "    return [ (y//2**j) % 2 for j in range(N) ]\n",
    "\n",
    "def ci(x,n,N):\n",
    "    b=bits(x,N)\n",
    "    return [ sum([ b[j]*2**(i+j) for j in range(N) ]) % n for i in range(N) ]\n",
    "\n"
   ]
  },
  {
   "cell_type": "code",
   "execution_count": 5,
   "metadata": {},
   "outputs": [
    {
     "name": "stdout",
     "output_type": "stream",
     "text": [
      "[5, 10, 20, 19, 17]\n"
     ]
    }
   ],
   "source": [
    "print(ci(5,21,5))"
   ]
  },
  {
   "cell_type": "markdown",
   "metadata": {},
   "source": [
    "# Multiplication by constant (without mod n)"
   ]
  },
  {
   "cell_type": "code",
   "execution_count": 17,
   "metadata": {},
   "outputs": [
    {
     "name": "stdout",
     "output_type": "stream",
     "text": [
      "Initial state\n",
      "    1 * |2>|0>\n",
      "Mult by 3\n",
      "    1 * |2>|6>\n"
     ]
    }
   ],
   "source": [
    "def mult(x,op,xbits,tbits):\n",
    "    Nbits=len(xbits)\n",
    "    c=ci(x,2**Nbits,Nbits)\n",
    "    for i in range(Nbits):\n",
    "        op=add(xbits[i],c[i],op,tbits)\n",
    "    return op\n",
    "\n",
    "st=sqc.state(6,basis=[\"|%d>|%d>\" % (i % 2**3,i//2**3) for i in range(2**6)])\n",
    "\n",
    "xbits=[0,1,2]\n",
    "tbits=[3,4,5]\n",
    "\n",
    "st=sqc.operator(6).X(1)*st\n",
    "print(\"Initial state\\n\",st)\n",
    "\n",
    "st=mult(3,sqc.operator(6),xbits=xbits,tbits=tbits)*st\n",
    "print(\"Mult by 3\\n\",st)"
   ]
  },
  {
   "cell_type": "code",
   "execution_count": null,
   "metadata": {},
   "outputs": [],
   "source": []
  }
 ],
 "metadata": {
  "kernelspec": {
   "display_name": "Python 3",
   "language": "python",
   "name": "python3"
  },
  "language_info": {
   "codemirror_mode": {
    "name": "ipython",
    "version": 3
   },
   "file_extension": ".py",
   "mimetype": "text/x-python",
   "name": "python",
   "nbconvert_exporter": "python",
   "pygments_lexer": "ipython3",
   "version": "3.7.3"
  }
 },
 "nbformat": 4,
 "nbformat_minor": 2
}
