{
 "cells": [
  {
   "cell_type": "code",
   "execution_count": 1,
   "metadata": {},
   "outputs": [],
   "source": [
    "import sqc\n",
    "import numpy as np\n",
    "from exercises import qft"
   ]
  },
  {
   "cell_type": "markdown",
   "metadata": {},
   "source": [
    "# Addition through Fourier transform"
   ]
  },
  {
   "cell_type": "code",
   "execution_count": 10,
   "metadata": {},
   "outputs": [
    {
     "name": "stdout",
     "output_type": "stream",
     "text": [
      "Initial = 0\n",
      "    1 * |0>\n",
      "Initial + 3\n",
      "    1 * |3>\n",
      "Initial + 3 + 7\n",
      "    1 * |10>\n"
     ]
    }
   ],
   "source": [
    "def add(y,op):\n",
    "    op=qft(op)\n",
    "    N=op.nbits\n",
    "    for i in range(N):\n",
    "        op=op.Rz(i,2.*np.pi*y/2.**(N-i))\n",
    "    op=qft(op,inverse=True)\n",
    "    return op\n",
    "\n",
    "st=sqc.state(5,basis=[\"|%d>\" % i for i in range(2**5)])\n",
    "\n",
    "print(\"Initial = 0\\n\",st)\n",
    "st=add(3,sqc.operator(5))*st\n",
    "print(\"Initial + 3\\n\",st)\n",
    "st=add(7,sqc.operator(5))*st\n",
    "print(\"Initial + 3 + 7\\n\",st)"
   ]
  }
 ],
 "metadata": {
  "kernelspec": {
   "display_name": "Python 3",
   "language": "python",
   "name": "python3"
  },
  "language_info": {
   "codemirror_mode": {
    "name": "ipython",
    "version": 3
   },
   "file_extension": ".py",
   "mimetype": "text/x-python",
   "name": "python",
   "nbconvert_exporter": "python",
   "pygments_lexer": "ipython3",
   "version": "3.7.3"
  }
 },
 "nbformat": 4,
 "nbformat_minor": 2
}
