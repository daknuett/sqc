{
 "cells": [
  {
   "cell_type": "code",
   "execution_count": 6,
   "metadata": {},
   "outputs": [
    {
     "name": "stdout",
     "output_type": "stream",
     "text": [
      "Initial physical state\n",
      "   0.707107             * |00000>\n",
      " + (0.620545+0.339005j) * |00001>\n",
      "Logical state\n",
      "   0.707107             * |00000>\n",
      " + (0.620545+0.339005j) * |00111>\n",
      "After bit-flip error\n",
      "   0.707107             * |00010>\n",
      " + (0.620545+0.339005j) * |00101>\n",
      "After correction circuit\n",
      "   0.707107             * |00000>\n",
      " + (0.620545+0.339005j) * |00111>\n",
      "Entire circuit in QASM\n",
      "OPENQASM 2.0;\n",
      "include \"qelib1.inc\";\n",
      "qreg qr[5];\n",
      "creg cr[5];\n",
      "h qr[0];\n",
      "rz(0.159154943091895*pi) qr[0];\n",
      "cx qr[0],qr[1];\n",
      "cx qr[0],qr[2];\n",
      "x qr[1];\n",
      "cx qr[0],qr[3];\n",
      "cx qr[1],qr[3];\n",
      "cx qr[0],qr[4];\n",
      "cx qr[2],qr[4];\n",
      "measure qr[3] -> cr[0];\n",
      "measure qr[4] -> cr[1];\n",
      "if (cr==1) x qr[1];\n",
      "if (cr==1) x qr[3];\n",
      "if (cr==2) x qr[2];\n",
      "if (cr==2) x qr[4];\n",
      "if (cr==3) x qr[0];\n",
      "if (cr==3) x qr[3];\n",
      "if (cr==3) x qr[4];\n",
      "measure qr -> cr;\n",
      "\n"
     ]
    }
   ],
   "source": [
    "import sqc\n",
    "\n",
    "Nbits=5\n",
    "\n",
    "# Initial state\n",
    "op0=sqc.operator(Nbits).H(0).Rz(0,0.5)\n",
    "s0=op0*sqc.state(Nbits)\n",
    "print(\"Initial physical state\")\n",
    "print(s0)\n",
    "\n",
    "# Create logical state\n",
    "op1=sqc.operator(Nbits).CNOT(0,1).CNOT(0,2)\n",
    "s1=op1*s0\n",
    "print(\"Logical state\")\n",
    "print(s1)\n",
    "\n",
    "# Bit-flip error\n",
    "op2=sqc.operator(Nbits).X(1)\n",
    "s2=op2*s1\n",
    "print(\"After bit-flip error\")\n",
    "print(s2)\n",
    "\n",
    "# Correction circuit\n",
    "opc=sqc.operator(Nbits).CNOT(0,3).CNOT(1,3).CNOT(0,4).CNOT(2,4).M(3,0).M(4,1)\n",
    "\n",
    "# If\n",
    "opc=opc.IF(1).X(1).X(3).ENDIF()\n",
    "opc=opc.IF(2).X(2).X(4).ENDIF()\n",
    "opc=opc.IF(3).X(0).X(3).X(4).ENDIF()\n",
    "\n",
    "s3=opc*s2\n",
    "print(\"After correction circuit\")\n",
    "print(s3)\n",
    "\n",
    "op=op0+op1+op2+opc\n",
    "print(\"Entire circuit in QASM\")\n",
    "print(op.toQASM())"
   ]
  },
  {
   "cell_type": "code",
   "execution_count": null,
   "metadata": {},
   "outputs": [],
   "source": []
  }
 ],
 "metadata": {
  "kernelspec": {
   "display_name": "Python 3",
   "language": "python",
   "name": "python3"
  },
  "language_info": {
   "codemirror_mode": {
    "name": "ipython",
    "version": 3
   },
   "file_extension": ".py",
   "mimetype": "text/x-python",
   "name": "python",
   "nbconvert_exporter": "python",
   "pygments_lexer": "ipython3",
   "version": "3.7.3"
  }
 },
 "nbformat": 4,
 "nbformat_minor": 2
}
