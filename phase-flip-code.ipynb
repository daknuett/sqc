{
 "cells": [
  {
   "cell_type": "code",
   "execution_count": 29,
   "metadata": {},
   "outputs": [
    {
     "name": "stdout",
     "output_type": "stream",
     "text": [
      "Initial physical state\n",
      "   0.707107             * |00000>\n",
      " + (0.620545+0.339005j) * |00001>\n",
      "Logical state\n",
      "   0.707107             * |00000>\n",
      " + (0.620545+0.339005j) * |00111>\n",
      "After phase error\n",
      "   (0.573326+0.276948j) * |00000>\n",
      " + (0.133781-0.276948j) * |00001>\n",
      " + (0.25018-0.178907j)  * |00110>\n",
      " + (0.370365+0.517912j) * |00111>\n",
      "After correction circuit\n",
      "   (0.307567-0.636712j) * |00000>\n",
      " + (0.575172-0.411312j) * |00111>\n",
      "Phase rotated (case 3)\n",
      "   0.707107             * |00000>\n",
      " + (0.620545+0.339005j) * |00111>\n"
     ]
    }
   ],
   "source": [
    "import sqc\n",
    "import numpy as np\n",
    "\n",
    "Nbits=5\n",
    "\n",
    "# Initial state\n",
    "op0=sqc.operator(Nbits).H(0).Rz(0,0.5)\n",
    "s0=op0*sqc.state(Nbits)\n",
    "print(\"Initial physical state\")\n",
    "print(s0)\n",
    "\n",
    "# Create logical state\n",
    "op1=sqc.operator(Nbits).CNOT(0,1).CNOT(0,2)\n",
    "s1=op1*s0\n",
    "print(\"Logical state\")\n",
    "print(s1)\n",
    "\n",
    "# R_phi error\n",
    "phierr=0.9\n",
    "op2=sqc.operator(Nbits).H(0).H(1).H(2).Rz(0,phierr).H(0).H(1).H(2)\n",
    "s2=op2*s1\n",
    "print(\"After phase error\")\n",
    "print(s2)\n",
    "\n",
    "# Correction circuit\n",
    "opc=sqc.operator(Nbits).CNOT(0,3).CNOT(1,3).CNOT(0,4).CNOT(2,4).M(3,0).M(4,1)\n",
    "\n",
    "# If\n",
    "opc=opc.IF(1).X(1).X(3).ENDIF()\n",
    "opc=opc.IF(2).X(2).X(4).ENDIF()\n",
    "opc=opc.IF(3).X(0).X(3).X(4).ENDIF()\n",
    "\n",
    "s3=opc*s2\n",
    "print(\"After correction circuit\")\n",
    "print(s3)\n",
    "\n",
    "# For aesthetical reasons, correct for expected overall phase\n",
    "zplus=(1+np.exp(1j*phierr))/2\n",
    "zminus=(1-np.exp(1j*phierr))/2\n",
    "if opc.cval == 0:\n",
    "    s3.v = [ x*abs(zplus)/zplus for x in s3.v ]\n",
    "else:\n",
    "    s3.v = [ x*abs(zminus)/zminus for x in s3.v ]\n",
    "\n",
    "print(\"Phase rotated (case %d)\" % opc.cval)\n",
    "print(s3)\n",
    "\n"
   ]
  },
  {
   "cell_type": "code",
   "execution_count": null,
   "metadata": {},
   "outputs": [],
   "source": []
  },
  {
   "cell_type": "code",
   "execution_count": null,
   "metadata": {},
   "outputs": [],
   "source": []
  }
 ],
 "metadata": {
  "kernelspec": {
   "display_name": "Python 3",
   "language": "python",
   "name": "python3"
  },
  "language_info": {
   "codemirror_mode": {
    "name": "ipython",
    "version": 3
   },
   "file_extension": ".py",
   "mimetype": "text/x-python",
   "name": "python",
   "nbconvert_exporter": "python",
   "pygments_lexer": "ipython3",
   "version": "3.7.3"
  }
 },
 "nbformat": 4,
 "nbformat_minor": 2
}
